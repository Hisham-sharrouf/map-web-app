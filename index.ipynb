{
 "cells": [
  {
   "cell_type": "markdown",
   "metadata": {},
   "source": [
    "# Mapsgeo\n",
    "## Hisham "
   ]
  },
  {
   "cell_type": "code",
   "execution_count": 1,
   "metadata": {},
   "outputs": [],
   "source": [
    "import warnings\n",
    "warnings.filterwarnings('ignore')\n",
    "\n",
    "import ipywidgets as widgets\n",
    "from IPython.display import display, clear_output"
   ]
  },
  {
   "cell_type": "code",
   "execution_count": 3,
   "metadata": {},
   "outputs": [],
   "source": [
    "#!jupyter nbextension enable --py widgetsnbextension --sys-prefix\n",
    "#!jupyter serverextension enable voila --sys-prefix"
   ]
  },
  {
   "cell_type": "code",
   "execution_count": 4,
   "metadata": {},
   "outputs": [],
   "source": [
    "import ee\n",
    "import geemap"
   ]
  },
 
  {
   "cell_type": "code",
   "execution_count": 7,
   "metadata": {},
   "outputs": [],
   "source": [
    "ee.Initialize()\n",
    "countries = ee.FeatureCollection('FAO/GAUL/2015/level0').select('ADM0_NAME')\n",
    "\n",
    "# Filter the feature collection to subset France.\n",
    "lebanon = countries.filter(ee.Filter.eq('ADM0_NAME', 'Lebanon'))"
   ]
  },
  {
   "cell_type": "code",
   "execution_count": null,
   "metadata": {},
   "outputs": [],
   "source": [
    "#year_from=input(\"From year :\",)\n",
    "#year_to=input(\"to year :\",)"
   ]
  },
  {
   "cell_type": "code",
   "execution_count": null,
   "metadata": {},
   "outputs": [],
   "source": [
    "# center on Lebanon\n",
    "lat = 33.87\n",
    "lon = 35.9\n",
    "\n",
    "\n",
    "legend_keys = ['black','white','orange','yellow','red']\n",
    " #colorS can be defined using either hex code or RGB (0-255, 0-255, 0-255)\n",
    "legend_colors = [(0, 0,0), (255,255, 255), (251, 125, 0),(251, 223, 0), (255, 0 ,0)]\n",
    "\n",
    "Map = geemap.Map(center=[lat,lon],zoom=8)\n",
    "for i in range(2020, 2021, 1):\n",
    "    for j in range(1, 13, 1):\n",
    "        if (j== 2):\n",
    "        \n",
    "            d=28\n",
    "        \n",
    "        elif (j==4 or j==6 or j==9 or j==11  ): \n",
    "            d=30\n",
    "        \n",
    "        else: \n",
    "            d=31\n",
    "        \n",
    "\n",
    "        dataset = ee.ImageCollection('NOAA/VIIRS/DNB/MONTHLY_V1/VCMSLCFG')\\\n",
    "        .filterDate(f'{i}-{j}-01', f'{i}-{j}-{d}')\n",
    "        nighttime =dataset.sort('system:time_end').first().select('avg_rad')\n",
    "        nighttime = nighttime.clip(lebanon)\n",
    "        nighttimeVis = {'min': 0.0, 'max': 60.0, 'palette':['black','white','orange','yellow','red']}\n",
    "    #Map.setCenter(35.9957, 33.8718, 8)\n",
    "    #Map.addLayer(nighttime, nighttimeVis, 'Nighttime '+i+'-'+j,False)\n",
    "#print(f'{i}-{j}-{d}')\n",
    "        Map.addLayer(nighttime , nighttimeVis, f'{i}-{j}-{d}')\n",
    "\n",
    "Map.add_legend(legend_title=\"night\",legend_keys=legend_keys, legend_colors=legend_colors, position='bottomleft')\n",
    "Map"
   ]
  },
  {
   "cell_type": "code",
   "execution_count": null,
   "metadata": {},
   "outputs": [],
   "source": []
  }
 ],
 "metadata": {
  "kernelspec": {
   "display_name": "Python 3",
   "language": "python",
   "name": "python3"
  },
  "language_info": {
   "codemirror_mode": {
    "name": "ipython",
    "version": 3
   },
   "file_extension": ".py",
   "mimetype": "text/x-python",
   "name": "python",
   "nbconvert_exporter": "python",
   "pygments_lexer": "ipython3",
   "version": "3.8.5"
  }
 },
 "nbformat": 4,
 "nbformat_minor": 4
}
